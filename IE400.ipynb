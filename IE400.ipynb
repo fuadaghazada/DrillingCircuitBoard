{
 "cells": [
  {
   "cell_type": "markdown",
   "metadata": {},
   "source": [
    "## Imports"
   ]
  },
  {
   "cell_type": "code",
   "execution_count": 1,
   "metadata": {},
   "outputs": [],
   "source": [
    "import pandas as pd\n",
    "import itertools\n",
    "from gurobipy import *"
   ]
  },
  {
   "cell_type": "markdown",
   "metadata": {},
   "source": [
    "## Helper functions"
   ]
  },
  {
   "cell_type": "code",
   "execution_count": 2,
   "metadata": {},
   "outputs": [],
   "source": [
    "def readData():\n",
    "    xls = pd.ExcelFile(\"data.xlsx\")\n",
    "    \n",
    "    # Getting point coordinates\n",
    "    sheet = xls.parse(0) \n",
    "    \n",
    "    xCoordinates = list(sheet['X-coordinate'])\n",
    "    yCoordinates = list(sheet['Y-coordinate'])\n",
    "    points = [(xCoordinates[i], yCoordinates[i]) for i in range(len(xCoordinates))]\n",
    "    \n",
    "    # Getting block data\n",
    "    sheet = xls.parse(1, skiprows = [0])\n",
    "    \n",
    "    xCoordinates = list(sheet['X coordinate'])\n",
    "    yCoordinates = list(sheet['Y coordinate'])\n",
    "    widths = list(sheet['Width'])\n",
    "    heights = list(sheet['Height'])\n",
    "    blocks = [(xCoordinates[i], yCoordinates[i], widths[i], heights[i]) for i in range(len(xCoordinates))]\n",
    "    \n",
    "    return points, blocks"
   ]
  },
  {
   "cell_type": "code",
   "execution_count": 3,
   "metadata": {},
   "outputs": [],
   "source": [
    "def manhattanDistance(point1, point2):\n",
    "    x1, y1 = point1\n",
    "    x2, y2 = point2\n",
    "    \n",
    "    return abs(x1 - x2) + abs(y1 - y2)"
   ]
  },
  {
   "cell_type": "code",
   "execution_count": 4,
   "metadata": {},
   "outputs": [],
   "source": [
    "def calculateDistances(points):\n",
    "    Cij = []\n",
    "    for i in range(0, len(points)):\n",
    "        Cj = []\n",
    "        for j in range(0, len(points)):\n",
    "            Cj.append(manhattanDistance(points[i], points[j]))\n",
    "        Cij.append(Cj)\n",
    "\n",
    "    return Cij"
   ]
  },
  {
   "cell_type": "markdown",
   "metadata": {},
   "source": [
    "## Parameters"
   ]
  },
  {
   "cell_type": "code",
   "execution_count": 5,
   "metadata": {},
   "outputs": [],
   "source": [
    "points, blocks = readData()\n",
    "N = len(points)\n",
    "C = calculateDistances(points)"
   ]
  },
  {
   "cell_type": "markdown",
   "metadata": {},
   "source": [
    "## Creating model"
   ]
  },
  {
   "cell_type": "code",
   "execution_count": 6,
   "metadata": {},
   "outputs": [
    {
     "name": "stdout",
     "output_type": "stream",
     "text": [
      "Using license file /Users/fuadaghazada/gurobi.lic\n",
      "Academic license - for non-commercial use only\n"
     ]
    }
   ],
   "source": [
    "model = Model()"
   ]
  },
  {
   "cell_type": "markdown",
   "metadata": {},
   "source": [
    "## Decision Variables"
   ]
  },
  {
   "cell_type": "code",
   "execution_count": 7,
   "metadata": {},
   "outputs": [],
   "source": [
    "x = {}\n",
    "for i in range(N):\n",
    "    for j in range(N):\n",
    "        x[i, j] = model.addVar(vtype = GRB.BINARY, name = f\"X_{i}_{j}\")\n",
    "    model.update()\n",
    "    \n",
    "u = {}\n",
    "for i in range(N):\n",
    "    u[i] = model.addVar(vtype = GRB.CONTINUOUS, name = f\"U_{i}\")"
   ]
  },
  {
   "cell_type": "markdown",
   "metadata": {},
   "source": [
    "## Constraints"
   ]
  },
  {
   "cell_type": "code",
   "execution_count": 8,
   "metadata": {},
   "outputs": [],
   "source": [
    "for i in range(N):    \n",
    "    model.addConstr(sum(x[i, j] for j in range(N)), GRB.EQUAL, 1)\n",
    "    \n",
    "model.update()"
   ]
  },
  {
   "cell_type": "code",
   "execution_count": 9,
   "metadata": {},
   "outputs": [],
   "source": [
    "for j in range(N):\n",
    "    model.addConstr(sum(x[i, j] for i in range(N)), GRB.EQUAL, 1)\n",
    "    \n",
    "model.update()"
   ]
  },
  {
   "cell_type": "code",
   "execution_count": 10,
   "metadata": {},
   "outputs": [],
   "source": [
    "for i in range(N):\n",
    "    model.addConstr(x[i, i], GRB.EQUAL, 0)\n",
    "    \n",
    "model.update()"
   ]
  },
  {
   "cell_type": "code",
   "execution_count": 11,
   "metadata": {},
   "outputs": [],
   "source": [
    "for i in range(1, N):\n",
    "    for j in range(1, N):\n",
    "        model.addConstr(u[i] - u[j] + (N - 1) * x[i, j], GRB.LESS_EQUAL, N - 2)\n",
    "\n",
    "model.update()"
   ]
  },
  {
   "cell_type": "markdown",
   "metadata": {},
   "source": [
    "## Objective function"
   ]
  },
  {
   "cell_type": "code",
   "execution_count": 12,
   "metadata": {},
   "outputs": [],
   "source": [
    "obj = 0\n",
    "for i in range(N):\n",
    "    for j in range(N):\n",
    "        obj += C[i][j] * x[i, j] "
   ]
  },
  {
   "cell_type": "code",
   "execution_count": 13,
   "metadata": {},
   "outputs": [
    {
     "name": "stdout",
     "output_type": "stream",
     "text": [
      "Gurobi Optimizer version 9.0.0 build v9.0.0rc2 (mac64)\n",
      "Optimize a model with 2551 rows, 2550 columns and 12155 nonzeros\n",
      "Model fingerprint: 0x59a9ab76\n",
      "Variable types: 50 continuous, 2500 integer (2500 binary)\n",
      "Coefficient statistics:\n",
      "  Matrix range     [1e+00, 5e+01]\n",
      "  Objective range  [1e+00, 9e+01]\n",
      "  Bounds range     [1e+00, 1e+00]\n",
      "  RHS range        [1e+00, 5e+01]\n",
      "Presolve removed 99 rows and 51 columns\n",
      "Presolve time: 0.02s\n",
      "Presolved: 2452 rows, 2499 columns, 11956 nonzeros\n",
      "Variable types: 49 continuous, 2450 integer (2450 binary)\n",
      "\n",
      "Root relaxation: objective 2.978776e+02, 158 iterations, 0.01 seconds\n",
      "\n",
      "    Nodes    |    Current Node    |     Objective Bounds      |     Work\n",
      " Expl Unexpl |  Obj  Depth IntInf | Incumbent    BestBd   Gap | It/Node Time\n",
      "\n",
      "     0     0  297.87755    0   84          -  297.87755      -     -    0s\n",
      "     0     0  346.10204    0  101          -  346.10204      -     -    0s\n",
      "     0     0  348.04082    0  108          -  348.04082      -     -    0s\n",
      "     0     0  348.04082    0  104          -  348.04082      -     -    0s\n",
      "     0     0  350.00000    0  101          -  350.00000      -     -    0s\n",
      "     0     0  350.60000    0   92          -  350.60000      -     -    0s\n",
      "     0     0  350.60000    0   92          -  350.60000      -     -    0s\n",
      "     0     0  351.00000    0  103          -  351.00000      -     -    0s\n",
      "     0     0  351.00000    0  103          -  351.00000      -     -    0s\n",
      "     0     0  351.00000    0   97          -  351.00000      -     -    0s\n",
      "     0     0  351.00000    0   99          -  351.00000      -     -    0s\n",
      "     0     0  351.00000    0   42          -  351.00000      -     -    0s\n",
      "     0     0  351.00000    0   42          -  351.00000      -     -    0s\n",
      "     0     0  351.00000    0   42          -  351.00000      -     -    1s\n",
      "     0     0  351.00000    0   36          -  351.00000      -     -    1s\n",
      "H    0     0                     388.0000000  351.00000  9.54%     -    2s\n",
      "H    0     0                     382.0000000  352.00000  7.85%     -    2s\n",
      "     0     0  352.00000    0   84  382.00000  352.00000  7.85%     -    2s\n",
      "     0     0  352.00000    0  112  382.00000  352.00000  7.85%     -    2s\n",
      "     0     0  352.00000    0  100  382.00000  352.00000  7.85%     -    2s\n",
      "     0     0  352.00000    0  100  382.00000  352.00000  7.85%     -    2s\n",
      "     0     0  352.00000    0  103  382.00000  352.00000  7.85%     -    2s\n",
      "     0     0  352.00000    0  103  382.00000  352.00000  7.85%     -    2s\n",
      "     0     0  352.00000    0  103  382.00000  352.00000  7.85%     -    2s\n",
      "     0     0  352.00000    0   99  382.00000  352.00000  7.85%     -    2s\n",
      "     0     0  352.00000    0   90  382.00000  352.00000  7.85%     -    2s\n",
      "     0     0  352.00000    0  104  382.00000  352.00000  7.85%     -    2s\n",
      "     0     0  352.00000    0   32  382.00000  352.00000  7.85%     -    3s\n",
      "     0     0  352.00000    0   32  382.00000  352.00000  7.85%     -    3s\n",
      "     0     0  352.00000    0   30  382.00000  352.00000  7.85%     -    3s\n",
      "     0     0  352.00000    0   37  382.00000  352.00000  7.85%     -    3s\n",
      "     0     0  352.00000    0   37  382.00000  352.00000  7.85%     -    3s\n",
      "     0     0  352.00000    0   37  382.00000  352.00000  7.85%     -    3s\n",
      "     0     0  352.00000    0   28  382.00000  352.00000  7.85%     -    3s\n",
      "H    0     0                     378.0000000  352.00000  6.88%     -    3s\n",
      "     0     0  352.00000    0   81  378.00000  352.00000  6.88%     -    3s\n",
      "     0     0  352.00000    0  112  378.00000  352.00000  6.88%     -    3s\n",
      "     0     0  352.00000    0  110  378.00000  352.00000  6.88%     -    3s\n",
      "     0     0  352.00000    0  113  378.00000  352.00000  6.88%     -    3s\n",
      "     0     0  352.00000    0  114  378.00000  352.00000  6.88%     -    3s\n",
      "     0     0  352.66667    0  107  378.00000  352.66667  6.70%     -    3s\n",
      "     0     0  352.66667    0  113  378.00000  352.66667  6.70%     -    3s\n",
      "     0     0  353.00000    0  100  378.00000  353.00000  6.61%     -    3s\n",
      "     0     0  353.00000    0   90  378.00000  353.00000  6.61%     -    3s\n",
      "     0     0  353.33333    0  103  378.00000  353.33333  6.53%     -    3s\n",
      "     0     0  353.33333    0  103  378.00000  353.33333  6.53%     -    3s\n",
      "     0     0  353.33333    0   93  378.00000  353.33333  6.53%     -    4s\n",
      "     0     0  353.33333    0  103  378.00000  353.33333  6.53%     -    4s\n",
      "     0     0  353.33333    0   72  378.00000  353.33333  6.53%     -    4s\n",
      "     0     0  353.33333    0  110  378.00000  353.33333  6.53%     -    4s\n",
      "     0     0  353.33333    0   71  378.00000  353.33333  6.53%     -    4s\n",
      "     0     0  353.33333    0   71  378.00000  353.33333  6.53%     -    4s\n",
      "     0     2  354.00000    0   67  378.00000  354.00000  6.35%     -    4s\n",
      "   146   116  355.95918   33   76  378.00000  354.00000  6.35%  11.1    5s\n",
      "*  338   175              42     370.0000000  354.00000  4.32%  11.8    5s\n",
      "H  401   184                     368.0000000  354.00000  3.80%  13.3    5s\n",
      "H  782   313                     364.0000000  354.00000  2.75%  19.1    8s\n",
      "H  893   302                     360.0000000  354.00000  1.67%  18.7    9s\n",
      "   988   261  358.57143   28   10  360.00000  354.00000  1.67%  18.2   10s\n",
      "* 1385   203              48     358.0000000  356.38912  0.45%  16.4   10s\n",
      "\n",
      "Cutting planes:\n",
      "  Learned: 15\n",
      "  Gomory: 11\n",
      "  MIR: 16\n",
      "  Flow cover: 14\n",
      "  Inf proof: 1\n",
      "  Zero half: 10\n",
      "  RLT: 1\n",
      "\n",
      "Explored 1558 nodes (28330 simplex iterations) in 10.44 seconds\n",
      "Thread count was 4 (of 4 available processors)\n",
      "\n",
      "Solution count 8: 358 360 364 ... 388\n",
      "\n",
      "Optimal solution found (tolerance 1.00e-04)\n",
      "Best objective 3.580000000000e+02, best bound 3.580000000000e+02, gap 0.0000%\n"
     ]
    }
   ],
   "source": [
    "model.update()\n",
    "model.setObjective(obj, GRB.MINIMIZE)\n",
    "model.optimize()"
   ]
  },
  {
   "cell_type": "code",
   "execution_count": 15,
   "metadata": {},
   "outputs": [
    {
     "name": "stdout",
     "output_type": "stream",
     "text": [
      "X_0_47 1.000000\n",
      "X_1_22 1.000000\n",
      "X_2_9 1.000000\n",
      "X_3_42 1.000000\n",
      "X_4_46 1.000000\n",
      "X_5_20 1.000000\n",
      "X_6_40 1.000000\n",
      "X_7_37 1.000000\n",
      "X_8_7 1.000000\n",
      "X_9_43 1.000000\n",
      "X_10_21 1.000000\n",
      "X_11_10 1.000000\n",
      "X_12_23 1.000000\n",
      "X_13_0 1.000000\n",
      "X_14_28 1.000000\n",
      "X_15_6 1.000000\n",
      "X_16_1 1.000000\n",
      "X_17_25 1.000000\n",
      "X_18_3 1.000000\n",
      "X_19_49 1.000000\n",
      "X_20_30 1.000000\n",
      "X_21_17 1.000000\n",
      "X_22_8 1.000000\n",
      "X_23_35 1.000000\n",
      "X_24_16 1.000000\n",
      "X_25_34 1.000000\n",
      "X_26_15 1.000000\n",
      "X_27_4 1.000000\n",
      "X_28_39 1.000000\n",
      "X_29_41 1.000000\n",
      "X_30_14 1.000000\n",
      "X_31_33 1.000000\n",
      "X_32_2 1.000000\n",
      "X_33_38 1.000000\n",
      "X_34_13 1.000000\n",
      "X_35_24 1.000000\n",
      "X_36_5 1.000000\n",
      "X_37_18 1.000000\n",
      "X_38_32 1.000000\n",
      "X_39_12 1.000000\n",
      "X_40_36 1.000000\n",
      "X_41_11 1.000000\n",
      "X_42_29 1.000000\n",
      "X_43_48 1.000000\n",
      "X_44_45 1.000000\n",
      "X_45_31 1.000000\n",
      "X_46_19 1.000000\n",
      "X_47_27 1.000000\n",
      "X_48_26 1.000000\n",
      "X_49_44 1.000000\n",
      "U_1 32.000000\n",
      "U_2 12.000000\n",
      "U_3 38.000000\n",
      "U_4 2.000000\n",
      "U_5 21.000000\n",
      "U_6 18.000000\n",
      "U_7 35.000000\n",
      "U_8 34.000000\n",
      "U_9 13.000000\n",
      "U_10 43.000000\n",
      "U_11 42.000000\n",
      "U_12 27.000000\n",
      "U_13 48.000000\n",
      "U_14 24.000000\n",
      "U_15 17.000000\n",
      "U_16 31.000000\n",
      "U_17 45.000000\n",
      "U_18 37.000000\n",
      "U_19 4.000000\n",
      "U_20 22.000000\n",
      "U_21 44.000000\n",
      "U_22 33.000000\n",
      "U_23 28.000000\n",
      "U_24 30.000000\n",
      "U_25 46.000000\n",
      "U_26 16.000000\n",
      "U_27 1.000000\n",
      "U_28 25.000000\n",
      "U_29 40.000000\n",
      "U_30 23.000000\n",
      "U_31 8.000000\n",
      "U_32 11.000000\n",
      "U_33 9.000000\n",
      "U_34 47.000000\n",
      "U_35 29.000000\n",
      "U_36 20.000000\n",
      "U_37 36.000000\n",
      "U_38 10.000000\n",
      "U_39 26.000000\n",
      "U_40 19.000000\n",
      "U_41 41.000000\n",
      "U_42 39.000000\n",
      "U_43 14.000000\n",
      "U_44 6.000000\n",
      "U_45 7.000000\n",
      "U_46 3.000000\n",
      "U_48 15.000000\n",
      "U_49 5.000000\n"
     ]
    }
   ],
   "source": [
    "for v in model.getVars():\n",
    "    if v.X != 0:\n",
    "        print(\"%s %f\" % (v.Varname, v.X))"
   ]
  },
  {
   "cell_type": "code",
   "execution_count": null,
   "metadata": {},
   "outputs": [],
   "source": []
  },
  {
   "cell_type": "code",
   "execution_count": null,
   "metadata": {},
   "outputs": [],
   "source": []
  }
 ],
 "metadata": {
  "kernelspec": {
   "display_name": "Python 3",
   "language": "python",
   "name": "python3"
  },
  "language_info": {
   "codemirror_mode": {
    "name": "ipython",
    "version": 3
   },
   "file_extension": ".py",
   "mimetype": "text/x-python",
   "name": "python",
   "nbconvert_exporter": "python",
   "pygments_lexer": "ipython3",
   "version": "3.7.2"
  }
 },
 "nbformat": 4,
 "nbformat_minor": 2
}
