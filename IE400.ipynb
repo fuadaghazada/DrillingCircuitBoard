{
 "cells": [
  {
   "cell_type": "markdown",
   "metadata": {},
   "source": [
    "## Imports"
   ]
  },
  {
   "cell_type": "code",
   "execution_count": 1,
   "metadata": {},
   "outputs": [],
   "source": [
    "import pandas as pd\n",
    "from gurobipy import *"
   ]
  },
  {
   "cell_type": "markdown",
   "metadata": {},
   "source": [
    "## Helper functions"
   ]
  },
  {
   "cell_type": "code",
   "execution_count": 2,
   "metadata": {},
   "outputs": [],
   "source": [
    "def readData():\n",
    "    xls = pd.ExcelFile(\"ourdata.xlsx\")\n",
    "    \n",
    "    # Getting point coordinates\n",
    "    sheet = xls.parse(0) \n",
    "    \n",
    "    xCoordinates = list(sheet['X-coordinate'])\n",
    "    yCoordinates = list(sheet['Y-coordinate'])\n",
    "    points = [(xCoordinates[i], yCoordinates[i]) for i in range(len(xCoordinates))]\n",
    "    \n",
    "    # Getting block data\n",
    "    sheet = xls.parse(1, skiprows = [0])\n",
    "    \n",
    "    xCoordinates = list(sheet['X coordinate'])\n",
    "    yCoordinates = list(sheet['Y coordinate'])\n",
    "    widths = list(sheet['Width'])\n",
    "    heights = list(sheet['Height'])\n",
    "    blocks = [(xCoordinates[i], yCoordinates[i], widths[i], heights[i]) for i in range(len(xCoordinates))]\n",
    "    \n",
    "    return points, blocks"
   ]
  },
  {
   "cell_type": "code",
   "execution_count": 3,
   "metadata": {},
   "outputs": [],
   "source": [
    "def manhattanDistance(point1, point2):\n",
    "    x1, y1 = point1\n",
    "    x2, y2 = point2\n",
    "    \n",
    "    return abs(x1 - x2) + abs(y1 - y2)"
   ]
  },
  {
   "cell_type": "code",
   "execution_count": 4,
   "metadata": {},
   "outputs": [],
   "source": [
    "def calculateDistances(points):\n",
    "    Cij = [[1] * len(points) for i in range(len(points))]\n",
    "    \n",
    "    for i in range(0, len(points)):\n",
    "        for j in range(0, len(points)):\n",
    "            Cij[i][j] = manhattanDistance(points[i], points[j])\n",
    "\n",
    "    return Cij"
   ]
  },
  {
   "cell_type": "code",
   "execution_count": 5,
   "metadata": {},
   "outputs": [],
   "source": [
    "def calculateBlocks(points, blocks):\n",
    "    Bij = [[1] * len(points) for i in range(len(points))]\n",
    "    \n",
    "    for i in range(len(points)):\n",
    "        for j in range(len(points)):\n",
    "            for block in blocks:\n",
    "                count = checkBlockBetweenTwoPoints(points[i], points[j], block)\n",
    "                if count == 0:\n",
    "                    Bij[i][j] = 0\n",
    "            \n",
    "    return Bij"
   ]
  },
  {
   "cell_type": "code",
   "execution_count": 6,
   "metadata": {},
   "outputs": [],
   "source": [
    "def checkBlockBetweenTwoPoints(point1, point2, block):\n",
    "    p1_x, p1_y = point1\n",
    "    p2_x, p2_y = point2\n",
    "    b_x, b_y, b_w, b_h = block\n",
    "    \n",
    "    # X direction\n",
    "    dir_x = 1 if p1_x < p2_x else -1\n",
    "    \n",
    "    # Y direction\n",
    "    dir_y = 1 if p1_y < p2_y else -1\n",
    "    \n",
    "    count = 0 \n",
    "    \n",
    "    # 1st - main path\n",
    "    checkpoint_1 = True\n",
    "    for i in range(p1_x, p2_x, dir_x):\n",
    "        if blockContainsPoint(block, (i, p1_y)) is True:\n",
    "            checkpoint_1 = False\n",
    "            break\n",
    "    \n",
    "    if checkpoint_1 is True:\n",
    "        checkpoint_2 = True\n",
    "        for i in range(p1_y, p2_y, dir_y):\n",
    "            if blockContainsPoint(block, (p2_x, i)) is True:\n",
    "                checkpoint_2 = False\n",
    "                break\n",
    "        if checkpoint_2 is True:\n",
    "            count += 1\n",
    "\n",
    "    # 2nd - main path\n",
    "    checkpoint_3 = True\n",
    "    for i in range(p1_y, p2_y, dir_y):\n",
    "        if blockContainsPoint(block, (p1_x, i)) is True:\n",
    "            checkpoint_3 = False\n",
    "            break\n",
    "    \n",
    "    if checkpoint_3 is True:\n",
    "        checkpoint_4 = True\n",
    "        for i in range(p1_x, p2_x, dir_x):\n",
    "            if blockContainsPoint(block, (i, p2_y)) is True:\n",
    "                checkpoint_4 = False\n",
    "                break\n",
    "        if checkpoint_4 is True:\n",
    "            count += 1\n",
    "        \n",
    "    return count"
   ]
  },
  {
   "cell_type": "code",
   "execution_count": 7,
   "metadata": {},
   "outputs": [],
   "source": [
    "def blockContainsPoint(block, point):\n",
    "    p_x, p_y = point\n",
    "    b_x, b_y, b_w, b_h = block\n",
    "    \n",
    "    return (b_x <= p_x <= b_x + b_w) and (b_y <= p_y <= b_y + b_h)"
   ]
  },
  {
   "cell_type": "markdown",
   "metadata": {},
   "source": [
    "## Parameters & Constants"
   ]
  },
  {
   "cell_type": "code",
   "execution_count": 8,
   "metadata": {},
   "outputs": [],
   "source": [
    "points, blocks = readData()\n",
    "N = len(points)\n",
    "C = calculateDistances(points)\n",
    "B = calculateBlocks(points, blocks)"
   ]
  },
  {
   "cell_type": "markdown",
   "metadata": {},
   "source": [
    "## Creating Model"
   ]
  },
  {
   "cell_type": "code",
   "execution_count": 9,
   "metadata": {},
   "outputs": [
    {
     "name": "stdout",
     "output_type": "stream",
     "text": [
      "Using license file /Users/fuadaghazada/gurobi.lic\n",
      "Academic license - for non-commercial use only\n"
     ]
    }
   ],
   "source": [
    "model = Model()"
   ]
  },
  {
   "cell_type": "markdown",
   "metadata": {},
   "source": [
    "## Decision Variables"
   ]
  },
  {
   "cell_type": "code",
   "execution_count": 10,
   "metadata": {},
   "outputs": [],
   "source": [
    "x = {}\n",
    "for i in range(N):\n",
    "    for j in range(N):\n",
    "        x[i, j] = model.addVar(vtype = GRB.BINARY, name = f\"X_{i}_{j}\")\n",
    "    model.update()\n",
    "    \n",
    "u = {}\n",
    "for i in range(N):\n",
    "    u[i] = model.addVar(vtype = GRB.CONTINUOUS, name = f\"U_{i}\")"
   ]
  },
  {
   "cell_type": "markdown",
   "metadata": {},
   "source": [
    "## Constraints"
   ]
  },
  {
   "cell_type": "code",
   "execution_count": 11,
   "metadata": {},
   "outputs": [],
   "source": [
    "for i in range(N):    \n",
    "    model.addConstr(sum(x[i, j] for j in range(N)), GRB.EQUAL, 1)\n",
    "    \n",
    "model.update()"
   ]
  },
  {
   "cell_type": "code",
   "execution_count": 12,
   "metadata": {},
   "outputs": [],
   "source": [
    "for j in range(N):\n",
    "    model.addConstr(sum(x[i, j] for i in range(N)), GRB.EQUAL, 1)\n",
    "    \n",
    "model.update()"
   ]
  },
  {
   "cell_type": "code",
   "execution_count": 13,
   "metadata": {},
   "outputs": [],
   "source": [
    "for i in range(N):\n",
    "    model.addConstr(x[i, i], GRB.EQUAL, 0)\n",
    "    \n",
    "model.update()"
   ]
  },
  {
   "cell_type": "code",
   "execution_count": 14,
   "metadata": {},
   "outputs": [],
   "source": [
    "for i in range(1, N):\n",
    "    for j in range(1, N):\n",
    "        if i != j:\n",
    "            model.addConstr(u[i] - u[j] + (N - 1) * x[i, j], GRB.LESS_EQUAL, N - 2)\n",
    "\n",
    "model.update()"
   ]
  },
  {
   "cell_type": "code",
   "execution_count": 15,
   "metadata": {},
   "outputs": [],
   "source": [
    "for i in range(N):\n",
    "    for j in range(N):\n",
    "        model.addConstr(x[i, j], GRB.LESS_EQUAL, B[i][j])\n",
    "        \n",
    "model.update()"
   ]
  },
  {
   "cell_type": "markdown",
   "metadata": {},
   "source": [
    "## Objective function"
   ]
  },
  {
   "cell_type": "code",
   "execution_count": 16,
   "metadata": {},
   "outputs": [],
   "source": [
    "obj = 0\n",
    "for i in range(N):\n",
    "    for j in range(N):\n",
    "        obj += C[i][j] * x[i, j] "
   ]
  },
  {
   "cell_type": "code",
   "execution_count": 17,
   "metadata": {},
   "outputs": [
    {
     "name": "stdout",
     "output_type": "stream",
     "text": [
      "Gurobi Optimizer version 9.0.0 build v9.0.0rc2 (mac64)\n",
      "Optimize a model with 5002 rows, 2550 columns and 14606 nonzeros\n",
      "Model fingerprint: 0xa2dddca9\n",
      "Variable types: 50 continuous, 2500 integer (2500 binary)\n",
      "Coefficient statistics:\n",
      "  Matrix range     [1e+00, 5e+01]\n",
      "  Objective range  [1e+00, 9e+01]\n",
      "  Bounds range     [1e+00, 1e+00]\n",
      "  RHS range        [1e+00, 5e+01]\n",
      "Presolve removed 2550 rows and 189 columns\n",
      "Presolve time: 0.02s\n",
      "Presolved: 2452 rows, 2361 columns, 11552 nonzeros\n",
      "Variable types: 49 continuous, 2312 integer (2312 binary)\n",
      "\n",
      "Root relaxation: objective 3.025306e+02, 176 iterations, 0.01 seconds\n",
      "\n",
      "    Nodes    |    Current Node    |     Objective Bounds      |     Work\n",
      " Expl Unexpl |  Obj  Depth IntInf | Incumbent    BestBd   Gap | It/Node Time\n",
      "\n",
      "     0     0  302.53061    0   63          -  302.53061      -     -    0s\n",
      "     0     0  362.04082    0  102          -  362.04082      -     -    0s\n",
      "     0     0  363.00000    0   98          -  363.00000      -     -    0s\n",
      "     0     0  364.00000    0  107          -  364.00000      -     -    0s\n",
      "     0     0  364.00000    0   97          -  364.00000      -     -    0s\n",
      "     0     0  364.00000    0  100          -  364.00000      -     -    0s\n",
      "     0     0  364.00000    0   40          -  364.00000      -     -    0s\n",
      "     0     2  364.00000    0   40          -  364.00000      -     -    1s\n",
      "H  177   173                     456.0000000  365.00000  20.0%  11.8    1s\n",
      "H  185   141                     426.0000000  365.00000  14.3%  11.5    1s\n",
      "   744   620  388.00000   73  100  426.00000  366.00000  14.1%   9.9    5s\n",
      "H  784   618                     422.0000000  366.00000  13.3%  17.9    8s\n",
      "  1636  1053  378.36054  119   27  422.00000  366.00000  13.3%  18.4   10s\n",
      "* 3600  2191             146     416.0000000  366.00000  12.0%  14.2   11s\n",
      "  6775  4790  370.59184   30   44  416.00000  366.30904  11.9%  13.3   15s\n",
      "H 7796  5082                     408.0000000  366.50612  10.2%  13.4   16s\n",
      "* 9706  6147              82     402.0000000  366.81633  8.75%  13.4   18s\n",
      "H10547  1798                     380.0000000  367.00000  3.42%  13.5   18s\n",
      " 10559  1794  374.00000   32   83  380.00000  367.00000  3.42%  13.5   20s\n",
      " 10609  1833  368.00000   26  108  380.00000  368.00000  3.16%  14.7   25s\n",
      " 12328  2205  371.60544   57   38  380.00000  370.10884  2.60%  16.8   30s\n",
      "*14371  1769              65     378.0000000  371.18465  1.80%  18.5   32s\n",
      " 17173  1223 infeasible   51       378.00000  372.68522  1.41%  20.9   35s\n",
      "\n",
      "Cutting planes:\n",
      "  Learned: 19\n",
      "  Gomory: 24\n",
      "  Cover: 20\n",
      "  Clique: 3\n",
      "  MIR: 28\n",
      "  Flow cover: 165\n",
      "  Inf proof: 34\n",
      "  Zero half: 39\n",
      "\n",
      "Explored 20566 nodes (464213 simplex iterations) in 39.00 seconds\n",
      "Thread count was 4 (of 4 available processors)\n",
      "\n",
      "Solution count 8: 378 380 402 ... 456\n",
      "\n",
      "Optimal solution found (tolerance 1.00e-04)\n",
      "Best objective 3.780000000000e+02, best bound 3.780000000000e+02, gap 0.0000%\n"
     ]
    }
   ],
   "source": [
    "model.update()\n",
    "model.setObjective(obj, GRB.MINIMIZE)\n",
    "model.optimize()"
   ]
  },
  {
   "cell_type": "code",
   "execution_count": 18,
   "metadata": {
    "scrolled": true
   },
   "outputs": [
    {
     "name": "stdout",
     "output_type": "stream",
     "text": [
      "X_0_13 1.000000\n",
      "X_1_22 1.000000\n",
      "X_2_32 1.000000\n",
      "X_3_37 1.000000\n",
      "X_4_46 1.000000\n",
      "X_5_9 1.000000\n",
      "X_6_42 1.000000\n",
      "X_7_8 1.000000\n",
      "X_8_1 1.000000\n",
      "X_9_43 1.000000\n",
      "X_10_11 1.000000\n",
      "X_11_18 1.000000\n",
      "X_12_39 1.000000\n",
      "X_13_34 1.000000\n",
      "X_14_30 1.000000\n",
      "X_15_40 1.000000\n",
      "X_16_24 1.000000\n",
      "X_17_0 1.000000\n",
      "X_18_3 1.000000\n",
      "X_19_49 1.000000\n",
      "X_20_5 1.000000\n",
      "X_21_10 1.000000\n",
      "X_22_16 1.000000\n",
      "X_23_12 1.000000\n",
      "X_24_35 1.000000\n",
      "X_25_17 1.000000\n",
      "X_26_48 1.000000\n",
      "X_27_4 1.000000\n",
      "X_28_14 1.000000\n",
      "X_29_41 1.000000\n",
      "X_30_20 1.000000\n",
      "X_31_44 1.000000\n",
      "X_32_38 1.000000\n",
      "X_33_31 1.000000\n",
      "X_34_21 1.000000\n",
      "X_35_23 1.000000\n",
      "X_36_15 1.000000\n",
      "X_37_7 1.000000\n",
      "X_38_33 1.000000\n",
      "X_39_28 1.000000\n",
      "X_40_6 1.000000\n",
      "X_41_47 1.000000\n",
      "X_42_29 1.000000\n",
      "X_43_2 1.000000\n",
      "X_44_45 1.000000\n",
      "X_45_26 1.000000\n",
      "X_46_19 1.000000\n",
      "X_47_27 1.000000\n",
      "X_48_36 1.000000\n",
      "X_49_25 1.000000\n",
      "U_1 10.000000\n",
      "U_2 25.000000\n",
      "U_3 6.000000\n",
      "U_4 43.000000\n",
      "U_5 22.000000\n",
      "U_6 37.000000\n",
      "U_7 8.000000\n",
      "U_8 9.000000\n",
      "U_9 23.000000\n",
      "U_10 3.000000\n",
      "U_11 4.000000\n",
      "U_12 16.000000\n",
      "U_14 19.000000\n",
      "U_15 35.000000\n",
      "U_16 12.000000\n",
      "U_17 48.000000\n",
      "U_18 5.000000\n",
      "U_19 45.000000\n",
      "U_20 21.000000\n",
      "U_21 2.000000\n",
      "U_22 11.000000\n",
      "U_23 15.000000\n",
      "U_24 13.000000\n",
      "U_25 47.000000\n",
      "U_26 32.000000\n",
      "U_27 42.000000\n",
      "U_28 18.000000\n",
      "U_29 39.000000\n",
      "U_30 20.000000\n",
      "U_31 29.000000\n",
      "U_32 26.000000\n",
      "U_33 28.000000\n",
      "U_34 1.000000\n",
      "U_35 14.000000\n",
      "U_36 34.000000\n",
      "U_37 7.000000\n",
      "U_38 27.000000\n",
      "U_39 17.000000\n",
      "U_40 36.000000\n",
      "U_41 40.000000\n",
      "U_42 38.000000\n",
      "U_43 24.000000\n",
      "U_44 30.000000\n",
      "U_45 31.000000\n",
      "U_46 44.000000\n",
      "U_47 41.000000\n",
      "U_48 33.000000\n",
      "U_49 46.000000\n"
     ]
    }
   ],
   "source": [
    "for v in model.getVars():\n",
    "    if v.X != 0:\n",
    "        print(\"%s %f\" % (v.Varname, v.X))"
   ]
  },
  {
   "cell_type": "code",
   "execution_count": null,
   "metadata": {},
   "outputs": [],
   "source": []
  }
 ],
 "metadata": {
  "kernelspec": {
   "display_name": "Python 3",
   "language": "python",
   "name": "python3"
  },
  "language_info": {
   "codemirror_mode": {
    "name": "ipython",
    "version": 3
   },
   "file_extension": ".py",
   "mimetype": "text/x-python",
   "name": "python",
   "nbconvert_exporter": "python",
   "pygments_lexer": "ipython3",
   "version": "3.7.2"
  }
 },
 "nbformat": 4,
 "nbformat_minor": 2
}
