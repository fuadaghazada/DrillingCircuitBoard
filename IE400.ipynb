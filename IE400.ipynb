{
 "cells": [
  {
   "cell_type": "markdown",
   "metadata": {},
   "source": [
    "## Imports"
   ]
  },
  {
   "cell_type": "code",
   "execution_count": 1,
   "metadata": {},
   "outputs": [],
   "source": [
    "import pandas as pd\n",
    "import itertools\n",
    "from gurobipy import *"
   ]
  },
  {
   "cell_type": "code",
   "execution_count": 2,
   "metadata": {},
   "outputs": [],
   "source": [
    "def readData():\n",
    "    xls = pd.ExcelFile(\"data.xlsx\")\n",
    "    \n",
    "    # Getting point coordinates\n",
    "    sheet = xls.parse(0) \n",
    "    \n",
    "    xCoordinates = list(sheet['X-coordinate'])\n",
    "    yCoordinates = list(sheet['Y-coordinate'])\n",
    "    points = [(xCoordinates[i], yCoordinates[i]) for i in range(len(xCoordinates))]\n",
    "    \n",
    "    # Getting block data\n",
    "    sheet = xls.parse(1, skiprows = [0])\n",
    "    \n",
    "    xCoordinates = list(sheet['X coordinate'])\n",
    "    yCoordinates = list(sheet['Y coordinate'])\n",
    "    widths = list(sheet['Width'])\n",
    "    heights = list(sheet['Height'])\n",
    "    blocks = [(xCoordinates[i], yCoordinates[i], widths[i], heights[i]) for i in range(len(xCoordinates))]\n",
    "    \n",
    "    return points, blocks"
   ]
  },
  {
   "cell_type": "code",
   "execution_count": 3,
   "metadata": {},
   "outputs": [],
   "source": [
    "def manhattanDistance(point1, point2):\n",
    "    x1, y1 = point1\n",
    "    x2, y2 = point2\n",
    "    \n",
    "    return abs(x1 - x2) + abs(y1 - y2)"
   ]
  },
  {
   "cell_type": "code",
   "execution_count": 4,
   "metadata": {},
   "outputs": [],
   "source": [
    "def calculate_C_Distances(points):\n",
    "    Cij = []\n",
    "    for i in range(0, len(points)):\n",
    "        Cj = []\n",
    "        for j in range(0, len(points)):\n",
    "            Cj.append(manhattanDistance(points[i], points[j]))\n",
    "        Cij.append(Cj)\n",
    "\n",
    "    return Cij"
   ]
  },
  {
   "cell_type": "markdown",
   "metadata": {},
   "source": [
    "## Parameters"
   ]
  },
  {
   "cell_type": "code",
   "execution_count": 5,
   "metadata": {},
   "outputs": [],
   "source": [
    "points, blocks = readData()\n",
    "N = len(points)\n",
    "C = calculate_C_Distances(points)"
   ]
  },
  {
   "cell_type": "markdown",
   "metadata": {},
   "source": [
    "## Sub-tour elimination"
   ]
  },
  {
   "cell_type": "code",
   "execution_count": 6,
   "metadata": {},
   "outputs": [],
   "source": [
    "def subtourelim(model, where):\n",
    "    if where == GRB.callback.MIPSOL:\n",
    "        selected = []\n",
    "        # make a list of edges selected in the solution\n",
    "        for i in range(N):\n",
    "            sol = model.cbGetSolution([model._vars[i,j] for j in range(N)])\n",
    "            selected += [(i,j) for j in range(N) if sol[j] > 0.5]\n",
    "        # find the shortest cycle in the selected edge list\n",
    "        tour = subtour(selected)\n",
    "        if len(tour) < N:\n",
    "            # add a subtour elimination constraint\n",
    "            expr = 0\n",
    "            for i in range(len(tour)):\n",
    "                for j in range(i+1, len(tour)):\n",
    "                    expr += model._vars[tour[i], tour[j]]\n",
    "            model.cbLazy(expr <= len(tour)-1)\n",
    "    \n",
    "def subtour(edges):\n",
    "    visited = [False]*N\n",
    "    cycles = []\n",
    "    lengths = []\n",
    "    selected = [[] for i in range(N)]\n",
    "    for x,y in edges:\n",
    "        selected[x].append(y)\n",
    "    while True:\n",
    "        current = visited.index(False)\n",
    "        thiscycle = [current]\n",
    "        while True:\n",
    "            visited[current] = True\n",
    "            neighbors = [x for x in selected[current] if not visited[x]]\n",
    "            if len(neighbors) == 0:\n",
    "                break\n",
    "            current = neighbors[0]\n",
    "            thiscycle.append(current)\n",
    "        cycles.append(thiscycle)\n",
    "        lengths.append(len(thiscycle))\n",
    "        if sum(lengths) == N:\n",
    "            break\n",
    "    return cycles[lengths.index(min(lengths))]"
   ]
  },
  {
   "cell_type": "markdown",
   "metadata": {},
   "source": [
    "## Creating model"
   ]
  },
  {
   "cell_type": "code",
   "execution_count": 7,
   "metadata": {},
   "outputs": [
    {
     "name": "stdout",
     "output_type": "stream",
     "text": [
      "Using license file /Users/fuadaghazada/gurobi.lic\n",
      "Academic license - for non-commercial use only\n"
     ]
    }
   ],
   "source": [
    "model = Model()"
   ]
  },
  {
   "cell_type": "markdown",
   "metadata": {},
   "source": [
    "## Decision Variables"
   ]
  },
  {
   "cell_type": "code",
   "execution_count": 8,
   "metadata": {},
   "outputs": [],
   "source": [
    "decVars = {}\n",
    "for i in range(N):\n",
    "    for j in range(N):\n",
    "        decVars[i, j] = model.addVar(vtype = GRB.BINARY, name = f\"X_{i}_{j}\")\n",
    "    model.update()"
   ]
  },
  {
   "cell_type": "markdown",
   "metadata": {},
   "source": [
    "## Constraints"
   ]
  },
  {
   "cell_type": "code",
   "execution_count": 9,
   "metadata": {},
   "outputs": [],
   "source": [
    "for i in range(N):\n",
    "    decVars_j = []\n",
    "    for j in range(N):\n",
    "        decVars_j.append(j)\n",
    "    \n",
    "    model.addConstr(sum(decVars[i, k] for k in decVars_j), GRB.EQUAL, 1)\n",
    "model.update()"
   ]
  },
  {
   "cell_type": "code",
   "execution_count": 10,
   "metadata": {},
   "outputs": [],
   "source": [
    "for j in range(N):\n",
    "    decVars_i = []\n",
    "    for i in range(N):\n",
    "        decVars_i.append(i)\n",
    "    \n",
    "    model.addConstr(sum(decVars[k, j] for k in decVars_i), GRB.EQUAL, 1)\n",
    "model.update()"
   ]
  },
  {
   "cell_type": "code",
   "execution_count": 11,
   "metadata": {},
   "outputs": [],
   "source": [
    "for i in range(N):\n",
    "    model.addConstr(decVars[i, i], GRB.EQUAL, 0)\n",
    "model.update()"
   ]
  },
  {
   "cell_type": "markdown",
   "metadata": {},
   "source": [
    "## Objective function"
   ]
  },
  {
   "cell_type": "code",
   "execution_count": 12,
   "metadata": {},
   "outputs": [],
   "source": [
    "obj = 0\n",
    "for i in range(N):\n",
    "    for j in range(N):\n",
    "        obj += C[i][j] * decVars[i, j] "
   ]
  },
  {
   "cell_type": "code",
   "execution_count": 13,
   "metadata": {},
   "outputs": [
    {
     "name": "stdout",
     "output_type": "stream",
     "text": [
      "Changed value of parameter LazyConstraints to 1\n",
      "   Prev: 0  Min: 0  Max: 1  Default: 0\n",
      "Gurobi Optimizer version 9.0.0 build v9.0.0rc2 (mac64)\n",
      "Optimize a model with 150 rows, 2500 columns and 5050 nonzeros\n",
      "Model fingerprint: 0x35de07cc\n",
      "Variable types: 0 continuous, 2500 integer (2500 binary)\n",
      "Coefficient statistics:\n",
      "  Matrix range     [1e+00, 1e+00]\n",
      "  Objective range  [1e+00, 9e+01]\n",
      "  Bounds range     [1e+00, 1e+00]\n",
      "  RHS range        [1e+00, 1e+00]\n",
      "Presolve removed 50 rows and 50 columns\n",
      "Presolve time: 0.01s\n",
      "Presolved: 100 rows, 2450 columns, 4900 nonzeros\n",
      "Variable types: 0 continuous, 2450 integer (2450 binary)\n",
      "Found heuristic solution: objective 316.0000000\n",
      "\n",
      "Root relaxation: objective 2.960000e+02, 92 iterations, 0.00 seconds\n",
      "\n",
      "    Nodes    |    Current Node    |     Objective Bounds      |     Work\n",
      " Expl Unexpl |  Obj  Depth IntInf | Incumbent    BestBd   Gap | It/Node Time\n",
      "\n",
      "*    0     0               0     296.0000000  296.00000  0.00%     -    0s\n",
      "\n",
      "Explored 0 nodes (92 simplex iterations) in 0.04 seconds\n",
      "Thread count was 4 (of 4 available processors)\n",
      "\n",
      "Solution count 2: 296 316 \n",
      "\n",
      "Optimal solution found (tolerance 1.00e-04)\n",
      "Best objective 2.960000000000e+02, best bound 2.960000000000e+02, gap 0.0000%\n",
      "\n",
      "User-callback calls 50, time in user-callback 0.01 sec\n"
     ]
    }
   ],
   "source": [
    "model.update()\n",
    "model._vars = decVars\n",
    "model.setObjective(obj, GRB.MINIMIZE)\n",
    "model.params.LazyConstraints = 1\n",
    "model.optimize(subtourelim)"
   ]
  },
  {
   "cell_type": "code",
   "execution_count": 14,
   "metadata": {},
   "outputs": [
    {
     "name": "stdout",
     "output_type": "stream",
     "text": [
      "X_0_13 1.000000\n",
      "X_1_16 1.000000\n",
      "X_2_32 1.000000\n",
      "X_3_18 1.000000\n",
      "X_4_27 1.000000\n",
      "X_5_36 1.000000\n",
      "X_6_40 1.000000\n",
      "X_7_22 1.000000\n",
      "X_8_7 1.000000\n",
      "X_9_5 1.000000\n",
      "X_10_11 1.000000\n",
      "X_11_10 1.000000\n",
      "X_12_39 1.000000\n",
      "X_13_0 1.000000\n",
      "X_14_28 1.000000\n",
      "X_15_26 1.000000\n",
      "X_16_1 1.000000\n",
      "X_17_25 1.000000\n",
      "X_18_37 1.000000\n",
      "X_19_46 1.000000\n",
      "X_20_30 1.000000\n",
      "X_21_34 1.000000\n",
      "X_22_8 1.000000\n",
      "X_23_24 1.000000\n",
      "X_24_35 1.000000\n",
      "X_25_17 1.000000\n",
      "X_26_48 1.000000\n",
      "X_27_47 1.000000\n",
      "X_28_14 1.000000\n",
      "X_29_41 1.000000\n",
      "X_30_20 1.000000\n",
      "X_31_45 1.000000\n",
      "X_32_2 1.000000\n",
      "X_33_38 1.000000\n",
      "X_34_21 1.000000\n",
      "X_35_23 1.000000\n",
      "X_36_15 1.000000\n",
      "X_37_3 1.000000\n",
      "X_38_33 1.000000\n",
      "X_39_12 1.000000\n",
      "X_40_6 1.000000\n",
      "X_41_42 1.000000\n",
      "X_42_29 1.000000\n",
      "X_43_9 1.000000\n",
      "X_44_49 1.000000\n",
      "X_45_31 1.000000\n",
      "X_46_19 1.000000\n",
      "X_47_4 1.000000\n",
      "X_48_43 1.000000\n",
      "X_49_44 1.000000\n"
     ]
    }
   ],
   "source": [
    "for v in model.getVars():\n",
    "    if v.X != 0:\n",
    "        print(\"%s %f\" % (v.Varname, v.X))"
   ]
  },
  {
   "cell_type": "code",
   "execution_count": 15,
   "metadata": {},
   "outputs": [
    {
     "data": {
      "text/plain": [
       "True"
      ]
     },
     "execution_count": 15,
     "metadata": {},
     "output_type": "execute_result"
    }
   ],
   "source": [
    "model.status == GRB.Status.OPTIMAL"
   ]
  },
  {
   "cell_type": "code",
   "execution_count": 16,
   "metadata": {},
   "outputs": [],
   "source": [
    "from itertools import chain, combinations\n",
    "def powerset(iterable):\n",
    "    \"powerset([1,2,3]) --> () (1,) (2,) (3,) (1,2) (1,3) (2,3) (1,2,3)\"\n",
    "    s = list(iterable)\n",
    "    return chain.from_iterable(combinations(s, r) for r in range(len(s)+1))"
   ]
  },
  {
   "cell_type": "code",
   "execution_count": null,
   "metadata": {},
   "outputs": [],
   "source": []
  }
 ],
 "metadata": {
  "kernelspec": {
   "display_name": "Python 3",
   "language": "python",
   "name": "python3"
  },
  "language_info": {
   "codemirror_mode": {
    "name": "ipython",
    "version": 3
   },
   "file_extension": ".py",
   "mimetype": "text/x-python",
   "name": "python",
   "nbconvert_exporter": "python",
   "pygments_lexer": "ipython3",
   "version": "3.7.2"
  }
 },
 "nbformat": 4,
 "nbformat_minor": 2
}
