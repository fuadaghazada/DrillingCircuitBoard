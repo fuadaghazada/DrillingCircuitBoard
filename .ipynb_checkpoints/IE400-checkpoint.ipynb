{
 "cells": [
  {
   "cell_type": "markdown",
   "metadata": {},
   "source": [
    "## Imports"
   ]
  },
  {
   "cell_type": "code",
   "execution_count": 1,
   "metadata": {},
   "outputs": [],
   "source": [
    "import pandas as pd\n",
    "from gurobipy import *\n",
    "from matplotlib import pyplot as plt"
   ]
  },
  {
   "cell_type": "markdown",
   "metadata": {},
   "source": [
    "## Helper functions"
   ]
  },
  {
   "cell_type": "code",
   "execution_count": 2,
   "metadata": {},
   "outputs": [],
   "source": [
    "'''\n",
    "    Reading the data from Excel file:\n",
    "        - X and Y coordinates of points\n",
    "        - X and Y coordinates and dimensions of blocks \n",
    "        \n",
    "    :return: (tuple) points, blocks - list of the points and block from data\n",
    "'''\n",
    "def readData():\n",
    "    xls = pd.ExcelFile(\"data.xlsx\")\n",
    "    \n",
    "    # Getting point coordinates\n",
    "    sheet = xls.parse(0) \n",
    "    \n",
    "    xCoordinates = list(sheet['X-coordinate'])\n",
    "    yCoordinates = list(sheet['Y-coordinate'])\n",
    "    points = [(xCoordinates[i], yCoordinates[i]) for i in range(len(xCoordinates))]\n",
    "    \n",
    "    # Getting block data\n",
    "    sheet = xls.parse(1, skiprows = [0])\n",
    "    \n",
    "    xCoordinates = list(sheet['X coordinate'])\n",
    "    yCoordinates = list(sheet['Y coordinate'])\n",
    "    widths = list(sheet['Width'])\n",
    "    heights = list(sheet['Height'])\n",
    "    blocks = [(xCoordinates[i], yCoordinates[i], widths[i], heights[i]) for i in range(len(xCoordinates))]\n",
    "    \n",
    "    return points, blocks"
   ]
  },
  {
   "cell_type": "code",
   "execution_count": 3,
   "metadata": {},
   "outputs": [],
   "source": [
    "'''\n",
    "    Finding Manhattan distance between two given points\n",
    "    \n",
    "    :param: (tuple) point1 - first given point\n",
    "    :param: (tuple) point2 - second given point\n",
    "    :return: (number) Manhattan distance between the point1 and point2\n",
    "'''\n",
    "def manhattanDistance(point1, point2):\n",
    "    x1, y1 = point1\n",
    "    x2, y2 = point2\n",
    "    \n",
    "    return abs(x1 - x2) + abs(y1 - y2)"
   ]
  },
  {
   "cell_type": "code",
   "execution_count": 4,
   "metadata": {},
   "outputs": [],
   "source": [
    "'''\n",
    "    Calculating the distance pairs between the given list of points\n",
    "    \n",
    "    :param: (list) points - the given list of points\n",
    "    :return: (list) Cij - 2D matrix for pair-wise distances\n",
    "    \n",
    "    e.g. C[1][2] - Manhattan distance between Point 1 and Point 2\n",
    "'''\n",
    "def calculateDistances(points):\n",
    "    Cij = [[1] * len(points) for i in range(len(points))]\n",
    "    \n",
    "    for i in range(0, len(points)):\n",
    "        for j in range(0, len(points)):\n",
    "            Cij[i][j] = manhattanDistance(points[i], points[j])\n",
    "\n",
    "    return Cij"
   ]
  },
  {
   "cell_type": "code",
   "execution_count": 5,
   "metadata": {},
   "outputs": [],
   "source": [
    "'''\n",
    "    Calculating the block parameter for every pair of points\n",
    "    \n",
    "    :param: (list) points - the given list of points\n",
    "    :param: (list) blocks - the given list of blocks\n",
    "    :return: (list) Bij - 2D matrix for pair-wise passing status for points\n",
    "    \n",
    "    e.g. B[1][2] - 1 if there is a non-blocking path from Point 1 to Point 2 \n",
    "'''\n",
    "def calculateBlocks(points, blocks):\n",
    "    Bij = [[1] * len(points) for i in range(len(points))]\n",
    "    Dij = [[None] * len(points) for i in range(len(points))]\n",
    "    \n",
    "    for i in range(len(points)):\n",
    "        for j in range(len(points)):\n",
    "            firstPathCounts = []\n",
    "            secondPathCounts = []\n",
    "        \n",
    "            for block in blocks:\n",
    "                firstPath, secondPath = checkBlockBetweenTwoPoints(points[i], points[j], block)\n",
    "                firstPathCounts.append(firstPath)\n",
    "                secondPathCounts.append(secondPath)\n",
    "            \n",
    "            firstPathResult = False not in firstPathCounts\n",
    "            secondPathResult = False not in secondPathCounts\n",
    "            \n",
    "            Bij[i][j] = int(firstPathResult or secondPathResult)\n",
    "\n",
    "            # 1 for first x then y; 2 for first y then x\n",
    "            if firstPathResult is True:\n",
    "                Dij[i][j] = 1\n",
    "            elif secondPathResult is True:\n",
    "                Dij[i][j] = 2\n",
    "            \n",
    "    return Bij, Dij"
   ]
  },
  {
   "cell_type": "code",
   "execution_count": 6,
   "metadata": {},
   "outputs": [],
   "source": [
    "'''\n",
    "    Checking whether the given block is on the way from a given point to another one\n",
    "    \n",
    "    :param: (tuple) point1 - the first given point\n",
    "    :param: (tuple) point2 - the second given point\n",
    "    :param: (tuple) block - the given block\n",
    "    :return: (tuple) first_path, second_path - passing status for the 1st main path and the 2nd main path\n",
    "    \n",
    "        (p1_x, p1_y)\n",
    "           (*)--------\n",
    "            |        |  <-(1)-\n",
    "            |        |\n",
    "            |        |\n",
    "    -(2)->  |  ||    |\n",
    "            ---||---(*)(p2_x, p2_y)\n",
    "            \n",
    "    (1) - first main path  (first in x direction then in y direction)  -> not blocked\n",
    "    (2) - second main path (first in y direction then in x direction)  -> blocked\n",
    "'''\n",
    "def checkBlockBetweenTwoPoints(point1, point2, block):\n",
    "    p1_x, p1_y = point1\n",
    "    p2_x, p2_y = point2\n",
    "    b_x, b_y, b_w, b_h = block\n",
    "    \n",
    "    # X direction\n",
    "    dir_x = 1 if p1_x < p2_x else -1\n",
    "    \n",
    "    # Y direction\n",
    "    dir_y = 1 if p1_y < p2_y else -1\n",
    "    \n",
    "    first_path = False\n",
    "    second_path = False\n",
    "    \n",
    "    # 1st - main path\n",
    "    checkpoint_1 = True\n",
    "    for i in range(p1_x, p2_x, dir_x):\n",
    "        if blockContainsPoint(block, (i, p1_y)) is True:\n",
    "            checkpoint_1 = False\n",
    "            break\n",
    "    \n",
    "    if checkpoint_1 is True:\n",
    "        checkpoint_2 = True\n",
    "        for i in range(p1_y, p2_y, dir_y):\n",
    "            if blockContainsPoint(block, (p2_x, i)) is True:\n",
    "                checkpoint_2 = False\n",
    "                break\n",
    "        if checkpoint_2 is True:\n",
    "            first_path = True\n",
    "\n",
    "    # 2nd - main path\n",
    "    checkpoint_3 = True\n",
    "    for i in range(p1_y, p2_y, dir_y):\n",
    "        if blockContainsPoint(block, (p1_x, i)) is True:\n",
    "            checkpoint_3 = False\n",
    "            break\n",
    "    \n",
    "    if checkpoint_3 is True:\n",
    "        checkpoint_4 = True\n",
    "        for i in range(p1_x, p2_x, dir_x):\n",
    "            if blockContainsPoint(block, (i, p2_y)) is True:\n",
    "                checkpoint_4 = False\n",
    "                break\n",
    "        if checkpoint_4 is True:\n",
    "            second_path = True\n",
    "        \n",
    "    return first_path, second_path"
   ]
  },
  {
   "cell_type": "code",
   "execution_count": 7,
   "metadata": {},
   "outputs": [],
   "source": [
    "'''\n",
    "    Checking whether the given point is inside the given block\n",
    "    \n",
    "    :param: (tuple) block - the given block\n",
    "    :param: (tuple) point - the given point\n",
    "    :return: (bool) True if the point is in the block, otherwise False\n",
    "'''\n",
    "def blockContainsPoint(block, point):\n",
    "    p_x, p_y = point\n",
    "    b_x, b_y, b_w, b_h = block\n",
    "    \n",
    "    return (b_x <= p_x <= b_x + b_w) and (b_y <= p_y <= b_y + b_h)"
   ]
  },
  {
   "cell_type": "markdown",
   "metadata": {},
   "source": [
    "## Parameters & Constants"
   ]
  },
  {
   "cell_type": "code",
   "execution_count": 8,
   "metadata": {},
   "outputs": [],
   "source": [
    "# Constants\n",
    "points, blocks = readData()\n",
    "N = len(points)\n",
    "\n",
    "# Parameters\n",
    "C = calculateDistances(points)\n",
    "B, D = calculateBlocks(points, blocks)"
   ]
  },
  {
   "cell_type": "markdown",
   "metadata": {},
   "source": [
    "## Creating Model"
   ]
  },
  {
   "cell_type": "code",
   "execution_count": 9,
   "metadata": {},
   "outputs": [
    {
     "name": "stdout",
     "output_type": "stream",
     "text": [
      "Using license file /Users/fuadaghazada/gurobi.lic\n",
      "Academic license - for non-commercial use only\n"
     ]
    }
   ],
   "source": [
    "model = Model()"
   ]
  },
  {
   "cell_type": "markdown",
   "metadata": {},
   "source": [
    "## Decision Variables"
   ]
  },
  {
   "cell_type": "code",
   "execution_count": 10,
   "metadata": {},
   "outputs": [],
   "source": [
    "x = {}\n",
    "for i in range(N):\n",
    "    for j in range(N):\n",
    "        x[i, j] = model.addVar(vtype = GRB.BINARY, name = f\"X_{i}_{j}\")\n",
    "    model.update()\n",
    "    \n",
    "u = {}\n",
    "for i in range(N):\n",
    "    u[i] = model.addVar(vtype = GRB.CONTINUOUS, name = f\"U_{i}\")"
   ]
  },
  {
   "cell_type": "markdown",
   "metadata": {},
   "source": [
    "## Constraints"
   ]
  },
  {
   "cell_type": "code",
   "execution_count": 11,
   "metadata": {},
   "outputs": [],
   "source": [
    "'''\n",
    "    [i]sum(x[i][j]) for all j = 1\n",
    "'''\n",
    "for i in range(N):    \n",
    "    model.addConstr(sum(x[i, j] for j in range(N)), GRB.EQUAL, 1)\n",
    "    \n",
    "model.update()"
   ]
  },
  {
   "cell_type": "code",
   "execution_count": 12,
   "metadata": {},
   "outputs": [],
   "source": [
    "'''\n",
    "    [j]sum(x[i][j]) for all i = 1\n",
    "'''\n",
    "for j in range(N):\n",
    "    model.addConstr(sum(x[i, j] for i in range(N)), GRB.EQUAL, 1)\n",
    "    \n",
    "model.update()"
   ]
  },
  {
   "cell_type": "code",
   "execution_count": 13,
   "metadata": {},
   "outputs": [],
   "source": [
    "'''\n",
    "    [i]sum(x[i][j]) for all i = 0\n",
    "'''\n",
    "for i in range(N):\n",
    "    model.addConstr(x[i, i], GRB.EQUAL, 0)\n",
    "    \n",
    "model.update()"
   ]
  },
  {
   "cell_type": "code",
   "execution_count": 14,
   "metadata": {},
   "outputs": [],
   "source": [
    "'''\n",
    "    Subtour elimination constraint:\n",
    "    \n",
    "    u[i] - u[j] + (N - 1) * x[i][j] <= N - 2  for all i and j (/ {1}) \n",
    "'''\n",
    "for i in range(1, N):\n",
    "    for j in range(1, N):\n",
    "        if i != j:\n",
    "            model.addConstr(u[i] - u[j] + (N - 1) * x[i, j], GRB.LESS_EQUAL, N - 2)\n",
    "\n",
    "model.update()"
   ]
  },
  {
   "cell_type": "code",
   "execution_count": 15,
   "metadata": {},
   "outputs": [],
   "source": [
    "'''\n",
    "    Blocking constraint:\n",
    "    \n",
    "    B[i][j] >= x[i][j]\n",
    "'''\n",
    "for i in range(N):\n",
    "    for j in range(N):\n",
    "        model.addConstr(x[i, j], GRB.LESS_EQUAL, B[i][j])\n",
    "        \n",
    "model.update()"
   ]
  },
  {
   "cell_type": "markdown",
   "metadata": {},
   "source": [
    "## Objective function"
   ]
  },
  {
   "cell_type": "code",
   "execution_count": 16,
   "metadata": {},
   "outputs": [],
   "source": [
    "'''\n",
    "    minimize [i, j]sum[x[i][j] * c[i][j]]\n",
    "'''\n",
    "obj = 0\n",
    "for i in range(N):\n",
    "    for j in range(N):\n",
    "        obj += C[i][j] * x[i, j] "
   ]
  },
  {
   "cell_type": "code",
   "execution_count": 17,
   "metadata": {},
   "outputs": [
    {
     "name": "stdout",
     "output_type": "stream",
     "text": [
      "Gurobi Optimizer version 9.0.0 build v9.0.0rc2 (mac64)\n",
      "Optimize a model with 5002 rows, 2550 columns and 14606 nonzeros\n",
      "Model fingerprint: 0xbbff8be2\n",
      "Variable types: 50 continuous, 2500 integer (2500 binary)\n",
      "Coefficient statistics:\n",
      "  Matrix range     [1e+00, 5e+01]\n",
      "  Objective range  [1e+00, 9e+01]\n",
      "  Bounds range     [1e+00, 1e+00]\n",
      "  RHS range        [1e+00, 5e+01]\n",
      "Presolve removed 2550 rows and 939 columns\n",
      "Presolve time: 0.02s\n",
      "Presolved: 2452 rows, 1611 columns, 9340 nonzeros\n",
      "Variable types: 49 continuous, 1562 integer (1562 binary)\n",
      "\n",
      "Root relaxation: objective 3.025306e+02, 215 iterations, 0.01 seconds\n",
      "\n",
      "    Nodes    |    Current Node    |     Objective Bounds      |     Work\n",
      " Expl Unexpl |  Obj  Depth IntInf | Incumbent    BestBd   Gap | It/Node Time\n",
      "\n",
      "     0     0  302.53061    0   68          -  302.53061      -     -    0s\n",
      "     0     0  362.04082    0  104          -  362.04082      -     -    0s\n",
      "     0     0  363.00000    0  104          -  363.00000      -     -    0s\n",
      "     0     0  363.00000    0  104          -  363.00000      -     -    0s\n",
      "     0     0  365.00000    0  107          -  365.00000      -     -    0s\n",
      "     0     0  365.00000    0  104          -  365.00000      -     -    0s\n",
      "     0     0  365.00000    0  103          -  365.00000      -     -    0s\n",
      "     0     0  365.00000    0  102          -  365.00000      -     -    0s\n",
      "     0     0  365.00000    0   52          -  365.00000      -     -    0s\n",
      "     0     0  365.00000    0   50          -  365.00000      -     -    0s\n",
      "     0     0  365.00000    0   47          -  365.00000      -     -    0s\n",
      "     0     0  365.00000    0   47          -  365.00000      -     -    0s\n",
      "     0     2  365.00000    0   47          -  365.00000      -     -    0s\n",
      "*  183   170              67     504.0000000  365.00000  27.6%  14.5    1s\n",
      "H  189   160                     474.0000000  365.00000  23.0%  14.2    1s\n",
      "H  192   144                     446.0000000  365.00000  18.2%  14.0    1s\n",
      "H  740   569                     436.0000000  366.00000  16.1%  14.0    3s\n",
      "   751   577  419.74150   69   56  436.00000  366.00000  16.1%  13.8    5s\n",
      "H  783   574                     428.0000000  366.40816  14.4%  22.1    6s\n",
      "* 1320   601              75     406.0000000  366.48980  9.73%  20.4    7s\n",
      "  3696  1895  378.08163   28   27  406.00000  370.66667  8.70%  19.0   10s\n",
      "* 4841  1868              64     394.0000000  371.44728  5.72%  18.5   11s\n",
      "* 5046  1769              68     392.0000000  371.57143  5.21%  18.4   11s\n",
      "H 5313  1333                     388.0000000  372.00000  4.12%  18.4   11s\n",
      "H 5967  1325                     386.0000000  372.66667  3.45%  18.7   13s\n",
      "* 6298  1234              51     384.0000000  372.66667  2.95%  18.6   13s\n",
      "* 6411  1033              48     382.0000000  373.00000  2.36%  18.6   14s\n",
      "  7144  1109  380.83810   32   30  382.00000  374.00000  2.09%  18.9   15s\n",
      " 10724  1388  378.51220   29   60  382.00000  376.00000  1.57%  18.6   20s\n",
      " 10910  1446 infeasible   55       382.00000  376.00000  1.57%  19.6   25s\n",
      " 11845  1338  378.54927   51   58  382.00000  376.00000  1.57%  19.7   30s\n",
      " 17289   735     cutoff   65       382.00000  378.00000  1.05%  18.7   35s\n",
      "\n",
      "Cutting planes:\n",
      "  Learned: 23\n",
      "  Gomory: 8\n",
      "  Cover: 14\n",
      "  MIR: 18\n",
      "  Flow cover: 119\n",
      "  Inf proof: 20\n",
      "  Zero half: 18\n",
      "\n",
      "Explored 20347 nodes (362911 simplex iterations) in 36.97 seconds\n",
      "Thread count was 4 (of 4 available processors)\n",
      "\n",
      "Solution count 10: 382 384 386 ... 446\n",
      "\n",
      "Optimal solution found (tolerance 1.00e-04)\n",
      "Best objective 3.820000000000e+02, best bound 3.820000000000e+02, gap 0.0000%\n"
     ]
    }
   ],
   "source": [
    "'''\n",
    "    Calculations\n",
    "'''\n",
    "model.update()\n",
    "model.setObjective(obj, GRB.MINIMIZE)\n",
    "model.optimize()"
   ]
  },
  {
   "cell_type": "code",
   "execution_count": 42,
   "metadata": {
    "scrolled": true
   },
   "outputs": [
    {
     "name": "stdout",
     "output_type": "stream",
     "text": [
      "X_0_13 1.000000\n",
      "X_1_22 1.000000\n",
      "X_2_32 1.000000\n",
      "X_3_37 1.000000\n",
      "X_4_46 1.000000\n",
      "X_5_9 1.000000\n",
      "X_6_42 1.000000\n",
      "X_7_8 1.000000\n",
      "X_8_1 1.000000\n",
      "X_9_43 1.000000\n",
      "X_10_11 1.000000\n",
      "X_11_18 1.000000\n",
      "X_12_39 1.000000\n",
      "X_13_34 1.000000\n",
      "X_14_28 1.000000\n",
      "X_15_40 1.000000\n",
      "X_16_24 1.000000\n",
      "X_17_0 1.000000\n",
      "X_18_3 1.000000\n",
      "X_19_49 1.000000\n",
      "X_20_30 1.000000\n",
      "X_21_10 1.000000\n",
      "X_22_16 1.000000\n",
      "X_23_12 1.000000\n",
      "X_24_35 1.000000\n",
      "X_25_17 1.000000\n",
      "X_26_48 1.000000\n",
      "X_27_4 1.000000\n",
      "X_28_5 1.000000\n",
      "X_29_41 1.000000\n",
      "X_30_14 1.000000\n",
      "X_31_44 1.000000\n",
      "X_32_38 1.000000\n",
      "X_33_31 1.000000\n",
      "X_34_21 1.000000\n",
      "X_35_23 1.000000\n",
      "X_36_15 1.000000\n",
      "X_37_7 1.000000\n",
      "X_38_33 1.000000\n",
      "X_39_20 1.000000\n",
      "X_40_6 1.000000\n",
      "X_41_47 1.000000\n",
      "X_42_29 1.000000\n",
      "X_43_2 1.000000\n",
      "X_44_45 1.000000\n",
      "X_45_26 1.000000\n",
      "X_46_19 1.000000\n",
      "X_47_27 1.000000\n",
      "X_48_36 1.000000\n",
      "X_49_25 1.000000\n",
      "U_1 10.000000\n",
      "U_2 25.000000\n",
      "U_3 6.000000\n",
      "U_4 43.000000\n",
      "U_5 22.000000\n",
      "U_6 37.000000\n",
      "U_7 8.000000\n",
      "U_8 9.000000\n",
      "U_9 23.000000\n",
      "U_10 3.000000\n",
      "U_11 4.000000\n",
      "U_12 16.000000\n",
      "U_14 20.000000\n",
      "U_15 35.000000\n",
      "U_16 12.000000\n",
      "U_17 48.000000\n",
      "U_18 5.000000\n",
      "U_19 45.000000\n",
      "U_20 18.000000\n",
      "U_21 2.000000\n",
      "U_22 11.000000\n",
      "U_23 15.000000\n",
      "U_24 13.000000\n",
      "U_25 47.000000\n",
      "U_26 32.000000\n",
      "U_27 42.000000\n",
      "U_28 21.000000\n",
      "U_29 39.000000\n",
      "U_30 19.000000\n",
      "U_31 29.000000\n",
      "U_32 26.000000\n",
      "U_33 28.000000\n",
      "U_34 1.000000\n",
      "U_35 14.000000\n",
      "U_36 34.000000\n",
      "U_37 7.000000\n",
      "U_38 27.000000\n",
      "U_39 17.000000\n",
      "U_40 36.000000\n",
      "U_41 40.000000\n",
      "U_42 38.000000\n",
      "U_43 24.000000\n",
      "U_44 30.000000\n",
      "U_45 31.000000\n",
      "U_46 44.000000\n",
      "U_47 41.000000\n",
      "U_48 33.000000\n",
      "U_49 46.000000\n"
     ]
    }
   ],
   "source": [
    "'''\n",
    "    Printing the status of decision variables\n",
    "'''\n",
    "result = []\n",
    "for v in model.getVars():\n",
    "    if v.X != 0:\n",
    "        print(\"%s %f\" % (v.Varname, v.X))\n",
    "\n",
    "        splitted = v.Varname.split('_')\n",
    "        if splitted[0] == \"X\":\n",
    "            name, src, dst = v.Varname.split('_')\n",
    "            result.append({\n",
    "                'src': int(src),\n",
    "                'dst': int(dst),\n",
    "                'src_coord': points[int(src)], \n",
    "                'dst_coord': points[int(dst)],\n",
    "                'path': D[int(src)][int(dst)]\n",
    "            })        "
   ]
  },
  {
   "cell_type": "code",
   "execution_count": 47,
   "metadata": {},
   "outputs": [
    {
     "data": {
      "image/png": "[encoded data removed]",
      "text/plain": [
       "<Figure size 1080x1080 with 1 Axes>"
      ]
     },
     "metadata": {
      "needs_background": "light"
     },
     "output_type": "display_data"
    }
   ],
   "source": [
    "plt.figure(figsize=(15,15))\n",
    "plt.axes()\n",
    "\n",
    "# Drawing blocks    \n",
    "for block in blocks:\n",
    "    x, y, w, h = block\n",
    "    rect = plt.Rectangle((x, y), w, h, fc='blue', ec='blue')\n",
    "    plt.gca().add_patch(rect)\n",
    "\n",
    "# Drawing points\n",
    "for data in result:\n",
    "    src_x, src_y = data['src_coord']\n",
    "\n",
    "    plt.scatter(src_x, src_y, s = 50, c = 'green' if src != 0 else 'red')\n",
    "\n",
    "# Draw arrows\n",
    "for data in result:\n",
    "    src, dst = data['src'], data['dst']\n",
    "    src_x, src_y = data['src_coord']\n",
    "    dst_x, dst_y = data['dst_coord']\n",
    "    path = data['path']\n",
    "    \n",
    "    plt.scatter(src_x, src_y, s = 50, c = 'green' if src != 0 else 'red')\n",
    "\n",
    "    dx = dst_x - src_x\n",
    "    dy = dst_y - src_y\n",
    "\n",
    "    arrow1, arrow2 = None, None\n",
    "    \n",
    "\n",
    "#     arrow1 = FancyArrowPatch ((src_x, src_y),(src_x, src_y + dy), arrowstyle='->', mutation_scale=20)\n",
    "#     arrow2 = FancyArrowPatch ((src_x, src_y + dy),(src_x + dx, src_y + dy), arrowstyle='->', mutation_scale=20)\n",
    "\n",
    "    \n",
    "    if path == 1:\n",
    "#         plt.arrow(src_x, src_y, dx, 0, overhang = -0.2)\n",
    "#         plt.arrow(src_x + dx, src_y, 0, dy, overhang = -0.2)\n",
    "        arrow1 = FancyArrowPatch ((src_x, src_y),(src_x + dx, src_y), arrowstyle='->', mutation_scale=20)\n",
    "        arrow2 = FancyArrowPatch ((src_x + dx, src_y),(src_x + dx, src_y + dy), arrowstyle='->', mutation_scale=20)\n",
    "\n",
    "    elif path == 2:\n",
    "#         plt.arrow(src_x, src_y, 0, dy, overhang = -0.2)\n",
    "#         plt.arrow(src_x, src_y + dy, dx, 0, overhang = -0.2)\n",
    "        arrow1 = FancyArrowPatch ((src_x, src_y),(src_x, src_y + dy), arrowstyle='->', mutation_scale=20)\n",
    "        arrow2 = FancyArrowPatch ((src_x, src_y + dy),(src_x + dx, src_y + dy), arrowstyle='->', mutation_scale=20)\n",
    "\n",
    "    \n",
    "    plt.add_patch(arrow)\n",
    "    \n",
    "# Showing params    \n",
    "plt.axis('scaled')\n",
    "plt.show()"
   ]
  },
  {
   "cell_type": "code",
   "execution_count": null,
   "metadata": {},
   "outputs": [],
   "source": []
  },
  {
   "cell_type": "code",
   "execution_count": null,
   "metadata": {},
   "outputs": [],
   "source": []
  }
 ],
 "metadata": {
  "kernelspec": {
   "display_name": "Python 3",
   "language": "python",
   "name": "python3"
  },
  "language_info": {
   "codemirror_mode": {
    "name": "ipython",
    "version": 3
   },
   "file_extension": ".py",
   "mimetype": "text/x-python",
   "name": "python",
   "nbconvert_exporter": "python",
   "pygments_lexer": "ipython3",
   "version": "3.7.2"
  }
 },
 "nbformat": 4,
 "nbformat_minor": 2
}
